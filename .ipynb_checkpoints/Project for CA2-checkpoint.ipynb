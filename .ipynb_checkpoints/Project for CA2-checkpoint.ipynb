{
 "cells": [
  {
   "cell_type": "markdown",
   "id": "91302e4c",
   "metadata": {},
   "source": [
    "# Data Preparation & Machine Learning for eBay Shill Bidding data\n",
    "<b>by Victor Ferreira Silva<br>January 2023</b>\n",
    "* [Introduction](#Introduction)\n",
    "    * Data preparation\n",
    "    * Data characterisation\n",
    "    * Exploratory Data Analysis\n",
    "    * Data cleaning\n",
    "    * Feature engineering\n",
    "    * Data scaling\n",
    "* Dimensionality reduction\n",
    "    * Principal Component Analysis (PCA)\n",
    "    * Linear Discriminant Analysis (LDA)\n",
    "* Machine Learning\n",
    "    * Clustering algorithms\n",
    "    * Classification algorithms\n",
    "* Conclusion\n",
    "* References\n",
    "\n",
    "SBD Dataset Web Page"
   ]
  },
  {
   "cell_type": "markdown",
   "id": "1c441b54",
   "metadata": {},
   "source": [
    "## <a id=\"Introduction\"></a>Introduction ##\n",
    "The ability to predict normal and abnormal bidding behavior of eBay users can help companies identify scams and other undesirable users on the platform. The Shill Bidding Dataset (SBD) consists of eBay auctions that have various features, including auction duration, bidder tendency and class. The goal of this report is to apply supervised and unsupervised machine learning techniques to the data set after properly preparing and characterizing it. To improve the results, scaling and feature reduction methods were used, and the performance and accuracy of the applied machine learning methods were compared. At the end of the report, the supervised and unsupervised methods that performed optimally on this dataset were identified. "
   ]
  },
  {
   "cell_type": "markdown",
   "id": "0235bbbf",
   "metadata": {},
   "source": [
    "### Data preparation"
   ]
  },
  {
   "cell_type": "markdown",
   "id": "4950d1b9",
   "metadata": {},
   "source": [
    "### Import / Configuration\n"
   ]
  },
  {
   "cell_type": "code",
   "execution_count": 1,
   "id": "4bcb9665",
   "metadata": {},
   "outputs": [],
   "source": [
    "import warnings\n",
    "warnings.filterwarnings('ignore')\n",
    "\n",
    "import pandas as pd\n",
    "\n",
    "import pandas_profiling\n",
    "from pandas_profiling import ProfileReport"
   ]
  },
  {
   "cell_type": "markdown",
   "id": "a4e65928",
   "metadata": {},
   "source": [
    "## Data Understanding"
   ]
  },
  {
   "cell_type": "code",
   "execution_count": 2,
   "id": "0fe56000",
   "metadata": {},
   "outputs": [],
   "source": [
    "df = pd.read_csv('Shill Bidding Dataset.csv')"
   ]
  },
  {
   "cell_type": "code",
   "execution_count": 3,
   "id": "a7875fc6",
   "metadata": {},
   "outputs": [
    {
     "name": "stdout",
     "output_type": "stream",
     "text": [
      "<class 'pandas.core.frame.DataFrame'>\n",
      "RangeIndex: 6321 entries, 0 to 6320\n",
      "Data columns (total 13 columns):\n",
      " #   Column                  Non-Null Count  Dtype  \n",
      "---  ------                  --------------  -----  \n",
      " 0   Record_ID               6321 non-null   int64  \n",
      " 1   Auction_ID              6321 non-null   int64  \n",
      " 2   Bidder_ID               6321 non-null   object \n",
      " 3   Bidder_Tendency         6321 non-null   float64\n",
      " 4   Bidding_Ratio           6321 non-null   float64\n",
      " 5   Successive_Outbidding   6321 non-null   float64\n",
      " 6   Last_Bidding            6321 non-null   float64\n",
      " 7   Auction_Bids            6321 non-null   float64\n",
      " 8   Starting_Price_Average  6321 non-null   float64\n",
      " 9   Early_Bidding           6321 non-null   float64\n",
      " 10  Winning_Ratio           6321 non-null   float64\n",
      " 11  Auction_Duration        6321 non-null   int64  \n",
      " 12  Class                   6321 non-null   int64  \n",
      "dtypes: float64(8), int64(4), object(1)\n",
      "memory usage: 642.1+ KB\n"
     ]
    }
   ],
   "source": [
    "df.info()"
   ]
  }
 ],
 "metadata": {
  "kernelspec": {
   "display_name": "Python 3 (ipykernel)",
   "language": "python",
   "name": "python3"
  },
  "language_info": {
   "codemirror_mode": {
    "name": "ipython",
    "version": 3
   },
   "file_extension": ".py",
   "mimetype": "text/x-python",
   "name": "python",
   "nbconvert_exporter": "python",
   "pygments_lexer": "ipython3",
   "version": "3.9.15"
  }
 },
 "nbformat": 4,
 "nbformat_minor": 5
}
